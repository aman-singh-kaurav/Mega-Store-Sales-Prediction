{
 "cells": [
  {
   "cell_type": "markdown",
   "id": "f92ad2d9",
   "metadata": {},
   "source": [
    "<h1 style = 'text-align: center'> MEGA STORE </h1>"
   ]
  },
  {
   "cell_type": "markdown",
   "id": "86db6806",
   "metadata": {},
   "source": [
    "***"
   ]
  },
  {
   "cell_type": "markdown",
   "id": "dd82cbd6",
   "metadata": {},
   "source": [
    "## Importing Libraries"
   ]
  },
  {
   "cell_type": "code",
   "execution_count": 1,
   "id": "64de5404",
   "metadata": {},
   "outputs": [],
   "source": [
    "import pandas as pd\n",
    "import numpy as np\n",
    "import seaborn as sns\n",
    "import matplotlib.pyplot as plt\n",
    "from matplotlib.pylab import rcParams\n",
    "rcParams['figure.figsize'] = 15, 10\n",
    "\n",
    "from sklearn.preprocessing import LabelEncoder\n",
    "\n",
    "from sklearn.model_selection import train_test_split\n",
    "from sklearn.linear_model import LinearRegression\n",
    "from sklearn.tree import DecisionTreeRegressor\n",
    "\n",
    "import math\n",
    "\n",
    "from sklearn.model_selection import train_test_split\n",
    "from sklearn.metrics import mean_squared_error, mean_absolute_percentage_error, mean_absolute_error, r2_score\n",
    "\n",
    "import warnings\n",
    "warnings.filterwarnings('always')\n",
    "warnings.filterwarnings('ignore')"
   ]
  },
  {
   "cell_type": "markdown",
   "id": "bc2b3a48",
   "metadata": {},
   "source": [
    "## Getting Data and Data Inspection "
   ]
  },
  {
   "cell_type": "code",
   "execution_count": 2,
   "id": "2cd22116",
   "metadata": {},
   "outputs": [],
   "source": [
    "# Reading Dataset\n",
    "\n",
    "df = pd.read_csv(\"MegaStore.csv\")"
   ]
  },
  {
   "cell_type": "code",
   "execution_count": 3,
   "id": "359b1917",
   "metadata": {},
   "outputs": [
    {
     "data": {
      "text/html": [
       "<div>\n",
       "<style scoped>\n",
       "    .dataframe tbody tr th:only-of-type {\n",
       "        vertical-align: middle;\n",
       "    }\n",
       "\n",
       "    .dataframe tbody tr th {\n",
       "        vertical-align: top;\n",
       "    }\n",
       "\n",
       "    .dataframe thead th {\n",
       "        text-align: right;\n",
       "    }\n",
       "</style>\n",
       "<table border=\"1\" class=\"dataframe\">\n",
       "  <thead>\n",
       "    <tr style=\"text-align: right;\">\n",
       "      <th></th>\n",
       "      <th>Item</th>\n",
       "      <th>Itemtype</th>\n",
       "      <th>Weight</th>\n",
       "      <th>FatContent</th>\n",
       "      <th>Visibility</th>\n",
       "      <th>MRP</th>\n",
       "      <th>Outlet</th>\n",
       "      <th>OutletEstablishmentYear</th>\n",
       "      <th>OutletSize</th>\n",
       "      <th>OutletCity</th>\n",
       "      <th>OutletType</th>\n",
       "      <th>Sales</th>\n",
       "    </tr>\n",
       "  </thead>\n",
       "  <tbody>\n",
       "    <tr>\n",
       "      <th>0</th>\n",
       "      <td>FDU28</td>\n",
       "      <td>Frozen Foods</td>\n",
       "      <td>19.2</td>\n",
       "      <td>Regular</td>\n",
       "      <td>0.094450</td>\n",
       "      <td>187.8214</td>\n",
       "      <td>OUT_017</td>\n",
       "      <td>2007</td>\n",
       "      <td>NaN</td>\n",
       "      <td>Tier 2</td>\n",
       "      <td>Supermarket Type1</td>\n",
       "      <td>4710.5350</td>\n",
       "    </tr>\n",
       "    <tr>\n",
       "      <th>1</th>\n",
       "      <td>FDY07</td>\n",
       "      <td>Fruits and Vegetables</td>\n",
       "      <td>11.8</td>\n",
       "      <td>Low Fat</td>\n",
       "      <td>0.000000</td>\n",
       "      <td>45.5402</td>\n",
       "      <td>OUT_049</td>\n",
       "      <td>1999</td>\n",
       "      <td>Medium</td>\n",
       "      <td>Tier 1</td>\n",
       "      <td>Supermarket Type1</td>\n",
       "      <td>1516.0266</td>\n",
       "    </tr>\n",
       "    <tr>\n",
       "      <th>2</th>\n",
       "      <td>FDA03</td>\n",
       "      <td>Dairy</td>\n",
       "      <td>18.5</td>\n",
       "      <td>Regular</td>\n",
       "      <td>0.045464</td>\n",
       "      <td>144.1102</td>\n",
       "      <td>OUT_046</td>\n",
       "      <td>1997</td>\n",
       "      <td>Small</td>\n",
       "      <td>Tier 1</td>\n",
       "      <td>Supermarket Type1</td>\n",
       "      <td>2187.1530</td>\n",
       "    </tr>\n",
       "    <tr>\n",
       "      <th>3</th>\n",
       "      <td>FDX32</td>\n",
       "      <td>Fruits and Vegetables</td>\n",
       "      <td>15.1</td>\n",
       "      <td>Regular</td>\n",
       "      <td>0.100014</td>\n",
       "      <td>145.4786</td>\n",
       "      <td>OUT_049</td>\n",
       "      <td>1999</td>\n",
       "      <td>Medium</td>\n",
       "      <td>Tier 1</td>\n",
       "      <td>Supermarket Type1</td>\n",
       "      <td>1589.2646</td>\n",
       "    </tr>\n",
       "    <tr>\n",
       "      <th>4</th>\n",
       "      <td>FDS46</td>\n",
       "      <td>Snack Foods</td>\n",
       "      <td>17.6</td>\n",
       "      <td>Regular</td>\n",
       "      <td>0.047257</td>\n",
       "      <td>119.6782</td>\n",
       "      <td>OUT_046</td>\n",
       "      <td>1997</td>\n",
       "      <td>Small</td>\n",
       "      <td>Tier 1</td>\n",
       "      <td>Supermarket Type1</td>\n",
       "      <td>2145.2076</td>\n",
       "    </tr>\n",
       "  </tbody>\n",
       "</table>\n",
       "</div>"
      ],
      "text/plain": [
       "    Item               Itemtype  Weight FatContent  Visibility       MRP  \\\n",
       "0  FDU28           Frozen Foods    19.2    Regular    0.094450  187.8214   \n",
       "1  FDY07  Fruits and Vegetables    11.8    Low Fat    0.000000   45.5402   \n",
       "2  FDA03                  Dairy    18.5    Regular    0.045464  144.1102   \n",
       "3  FDX32  Fruits and Vegetables    15.1    Regular    0.100014  145.4786   \n",
       "4  FDS46            Snack Foods    17.6    Regular    0.047257  119.6782   \n",
       "\n",
       "    Outlet  OutletEstablishmentYear OutletSize OutletCity         OutletType  \\\n",
       "0  OUT_017                     2007        NaN     Tier 2  Supermarket Type1   \n",
       "1  OUT_049                     1999     Medium     Tier 1  Supermarket Type1   \n",
       "2  OUT_046                     1997      Small     Tier 1  Supermarket Type1   \n",
       "3  OUT_049                     1999     Medium     Tier 1  Supermarket Type1   \n",
       "4  OUT_046                     1997      Small     Tier 1  Supermarket Type1   \n",
       "\n",
       "       Sales  \n",
       "0  4710.5350  \n",
       "1  1516.0266  \n",
       "2  2187.1530  \n",
       "3  1589.2646  \n",
       "4  2145.2076  "
      ]
     },
     "execution_count": 3,
     "metadata": {},
     "output_type": "execute_result"
    }
   ],
   "source": [
    "# Checking Dataframe\n",
    "df.head()"
   ]
  },
  {
   "cell_type": "code",
   "execution_count": 4,
   "id": "be543d22",
   "metadata": {},
   "outputs": [
    {
     "data": {
      "text/plain": [
       "(8523, 12)"
      ]
     },
     "execution_count": 4,
     "metadata": {},
     "output_type": "execute_result"
    }
   ],
   "source": [
    "# ROWS and COLUMNS in Dataframe\n",
    "df.shape"
   ]
  },
  {
   "cell_type": "code",
   "execution_count": 5,
   "id": "4ee1780d",
   "metadata": {},
   "outputs": [
    {
     "name": "stdout",
     "output_type": "stream",
     "text": [
      "<class 'pandas.core.frame.DataFrame'>\n",
      "RangeIndex: 8523 entries, 0 to 8522\n",
      "Data columns (total 12 columns):\n",
      " #   Column                   Non-Null Count  Dtype  \n",
      "---  ------                   --------------  -----  \n",
      " 0   Item                     8523 non-null   object \n",
      " 1   Itemtype                 8523 non-null   object \n",
      " 2   Weight                   7060 non-null   float64\n",
      " 3   FatContent               8523 non-null   object \n",
      " 4   Visibility               8523 non-null   float64\n",
      " 5   MRP                      8523 non-null   float64\n",
      " 6   Outlet                   8523 non-null   object \n",
      " 7   OutletEstablishmentYear  8523 non-null   int64  \n",
      " 8   OutletSize               6113 non-null   object \n",
      " 9   OutletCity               8523 non-null   object \n",
      " 10  OutletType               8523 non-null   object \n",
      " 11  Sales                    8523 non-null   float64\n",
      "dtypes: float64(4), int64(1), object(7)\n",
      "memory usage: 799.2+ KB\n"
     ]
    }
   ],
   "source": [
    "# Checking Datatypes\n",
    "df.info()"
   ]
  },
  {
   "cell_type": "code",
   "execution_count": 6,
   "id": "783a75a0",
   "metadata": {},
   "outputs": [
    {
     "data": {
      "text/plain": [
       "Item                          0\n",
       "Itemtype                      0\n",
       "Weight                     1463\n",
       "FatContent                    0\n",
       "Visibility                    0\n",
       "MRP                           0\n",
       "Outlet                        0\n",
       "OutletEstablishmentYear       0\n",
       "OutletSize                 2410\n",
       "OutletCity                    0\n",
       "OutletType                    0\n",
       "Sales                         0\n",
       "dtype: int64"
      ]
     },
     "execution_count": 6,
     "metadata": {},
     "output_type": "execute_result"
    }
   ],
   "source": [
    "# Checking for NULL Values in Dataset\n",
    "df.isnull().sum()"
   ]
  },
  {
   "cell_type": "code",
   "execution_count": 7,
   "id": "1d1974dd",
   "metadata": {},
   "outputs": [
    {
     "data": {
      "text/plain": [
       "Item                        0.000000\n",
       "Itemtype                    0.000000\n",
       "Weight                     17.165317\n",
       "FatContent                  0.000000\n",
       "Visibility                  0.000000\n",
       "MRP                         0.000000\n",
       "Outlet                      0.000000\n",
       "OutletEstablishmentYear     0.000000\n",
       "OutletSize                 28.276428\n",
       "OutletCity                  0.000000\n",
       "OutletType                  0.000000\n",
       "Sales                       0.000000\n",
       "dtype: float64"
      ]
     },
     "execution_count": 7,
     "metadata": {},
     "output_type": "execute_result"
    }
   ],
   "source": [
    "df.isnull().sum()/df.shape[0]*100"
   ]
  },
  {
   "cell_type": "markdown",
   "id": "2ac3f4d2",
   "metadata": {},
   "source": [
    "* __We have 17% and 28% of missing values in Weight and OutletSize columns respectively.__"
   ]
  },
  {
   "cell_type": "code",
   "execution_count": 8,
   "id": "296b8901",
   "metadata": {},
   "outputs": [
    {
     "name": "stdout",
     "output_type": "stream",
     "text": [
      "Categorical Features in Train Set: 7\n",
      "Numerical Features in Train Set: 5\n"
     ]
    }
   ],
   "source": [
    "#categorical features\n",
    "categorical = df.select_dtypes(include = [np.object])\n",
    "print(\"Categorical Features in Train Set:\",categorical.shape[1])\n",
    "\n",
    "#numerical features\n",
    "numerical= df.select_dtypes(include = [np.float64,np.int64])\n",
    "print(\"Numerical Features in Train Set:\",numerical.shape[1])"
   ]
  },
  {
   "cell_type": "code",
   "execution_count": 9,
   "id": "a6a15c96",
   "metadata": {},
   "outputs": [
    {
     "data": {
      "text/plain": [
       "Item                       1559\n",
       "Itemtype                     16\n",
       "Weight                      416\n",
       "FatContent                    5\n",
       "Visibility                 7880\n",
       "MRP                        5938\n",
       "Outlet                       10\n",
       "OutletEstablishmentYear       9\n",
       "OutletSize                    4\n",
       "OutletCity                    3\n",
       "OutletType                    4\n",
       "Sales                      3493\n",
       "dtype: int64"
      ]
     },
     "execution_count": 9,
     "metadata": {},
     "output_type": "execute_result"
    }
   ],
   "source": [
    "df.apply(lambda x : len(x.unique()))"
   ]
  },
  {
   "cell_type": "markdown",
   "id": "81f8ed63",
   "metadata": {},
   "source": [
    "## Data Cleaning"
   ]
  },
  {
   "cell_type": "markdown",
   "id": "0ddd1cef",
   "metadata": {},
   "source": [
    "__We have two features with NULL values, first we have to imputes the values for them__"
   ]
  },
  {
   "cell_type": "code",
   "execution_count": 10,
   "id": "c3e80e6f",
   "metadata": {},
   "outputs": [
    {
     "data": {
      "image/png": "[encoded data removed]",
      "text/plain": [
       "<Figure size 720x360 with 1 Axes>"
      ]
     },
     "metadata": {
      "needs_background": "light"
     },
     "output_type": "display_data"
    }
   ],
   "source": [
    "# Checking Outliers in Weight column\n",
    "\n",
    "plt.figure(figsize = (10, 5))\n",
    "sns.boxplot('Weight', data = df)\n",
    "plt.show()"
   ]
  },
  {
   "cell_type": "markdown",
   "id": "0c3dfb6f",
   "metadata": {},
   "source": [
    "__As there is no outliers in the Weight, we can either use MEAN or MEDIAN to replace NULL values.__\n",
    "\n",
    "__If we have Outliers, we need to go with MEDIAN__\n",
    "\n",
    "__So for best practice, for any NUMERIACAL feature you can go with MEDIAN (*BUT THIS TOO DEPEND ON PROBLEM TO PROBLEM*)__"
   ]
  },
  {
   "cell_type": "code",
   "execution_count": 11,
   "id": "e6c19117",
   "metadata": {},
   "outputs": [
    {
     "data": {
      "text/plain": [
       "12.857645184136183"
      ]
     },
     "execution_count": 11,
     "metadata": {},
     "output_type": "execute_result"
    }
   ],
   "source": [
    "df.Weight.mean()"
   ]
  },
  {
   "cell_type": "code",
   "execution_count": 12,
   "id": "e6edd602",
   "metadata": {},
   "outputs": [
    {
     "data": {
      "text/plain": [
       "12.6"
      ]
     },
     "execution_count": 12,
     "metadata": {},
     "output_type": "execute_result"
    }
   ],
   "source": [
    "df.Weight.median()"
   ]
  },
  {
   "cell_type": "code",
   "execution_count": 13,
   "id": "1faf6a4c",
   "metadata": {},
   "outputs": [],
   "source": [
    "# Imputing with Median\n",
    "\n",
    "df.Weight = df.Weight.fillna(df.Weight.median())"
   ]
  },
  {
   "cell_type": "code",
   "execution_count": 14,
   "id": "8ec428e8",
   "metadata": {},
   "outputs": [
    {
     "data": {
      "text/plain": [
       "0"
      ]
     },
     "execution_count": 14,
     "metadata": {},
     "output_type": "execute_result"
    }
   ],
   "source": [
    "df.Weight.isnull().sum()"
   ]
  },
  {
   "cell_type": "code",
   "execution_count": 15,
   "id": "3429f476",
   "metadata": {},
   "outputs": [
    {
     "data": {
      "text/plain": [
       "<AxesSubplot:xlabel='OutletSize', ylabel='count'>"
      ]
     },
     "execution_count": 15,
     "metadata": {},
     "output_type": "execute_result"
    },
    {
     "data": {
      "image/png": "[encoded data removed]",
      "text/plain": [
       "<Figure size 1080x720 with 1 Axes>"
      ]
     },
     "metadata": {
      "needs_background": "light"
     },
     "output_type": "display_data"
    }
   ],
   "source": [
    "# Checking Categories of OutletSize column\n",
    "\n",
    "sns.countplot('OutletSize', data = df)"
   ]
  },
  {
   "cell_type": "markdown",
   "id": "4138b9b5",
   "metadata": {},
   "source": [
    "__Here we can see Medium has a greater area in OutletSize, which means it is MODE of OutletSize__\n",
    "\n",
    "__For any CATEGORICAL Features use MODE to replace NULL Values.__"
   ]
  },
  {
   "cell_type": "code",
   "execution_count": 16,
   "id": "09dfa995",
   "metadata": {},
   "outputs": [
    {
     "data": {
      "text/plain": [
       "0    Medium\n",
       "dtype: object"
      ]
     },
     "execution_count": 16,
     "metadata": {},
     "output_type": "execute_result"
    }
   ],
   "source": [
    "df.OutletSize.mode()"
   ]
  },
  {
   "cell_type": "code",
   "execution_count": 17,
   "id": "22a7b974",
   "metadata": {},
   "outputs": [],
   "source": [
    "# Imputing with Mode\n",
    "\n",
    "df.OutletSize = df.OutletSize.fillna(df.OutletSize.mode()[0])"
   ]
  },
  {
   "cell_type": "code",
   "execution_count": 18,
   "id": "6b761531",
   "metadata": {},
   "outputs": [
    {
     "data": {
      "text/plain": [
       "0"
      ]
     },
     "execution_count": 18,
     "metadata": {},
     "output_type": "execute_result"
    }
   ],
   "source": [
    "df.OutletSize.isnull().sum()"
   ]
  },
  {
   "cell_type": "markdown",
   "id": "838c79a7",
   "metadata": {},
   "source": [
    "## DESCRIPTIVE ANALYSIS"
   ]
  },
  {
   "cell_type": "code",
   "execution_count": 19,
   "id": "48a85976",
   "metadata": {},
   "outputs": [
    {
     "data": {
      "text/html": [
       "<div>\n",
       "<style scoped>\n",
       "    .dataframe tbody tr th:only-of-type {\n",
       "        vertical-align: middle;\n",
       "    }\n",
       "\n",
       "    .dataframe tbody tr th {\n",
       "        vertical-align: top;\n",
       "    }\n",
       "\n",
       "    .dataframe thead th {\n",
       "        text-align: right;\n",
       "    }\n",
       "</style>\n",
       "<table border=\"1\" class=\"dataframe\">\n",
       "  <thead>\n",
       "    <tr style=\"text-align: right;\">\n",
       "      <th></th>\n",
       "      <th>Item</th>\n",
       "      <th>Itemtype</th>\n",
       "      <th>Weight</th>\n",
       "      <th>FatContent</th>\n",
       "      <th>Visibility</th>\n",
       "      <th>MRP</th>\n",
       "      <th>Outlet</th>\n",
       "      <th>OutletEstablishmentYear</th>\n",
       "      <th>OutletSize</th>\n",
       "      <th>OutletCity</th>\n",
       "      <th>OutletType</th>\n",
       "      <th>Sales</th>\n",
       "    </tr>\n",
       "  </thead>\n",
       "  <tbody>\n",
       "    <tr>\n",
       "      <th>0</th>\n",
       "      <td>FDU28</td>\n",
       "      <td>Frozen Foods</td>\n",
       "      <td>19.2</td>\n",
       "      <td>Regular</td>\n",
       "      <td>0.094450</td>\n",
       "      <td>187.8214</td>\n",
       "      <td>OUT_017</td>\n",
       "      <td>2007</td>\n",
       "      <td>Medium</td>\n",
       "      <td>Tier 2</td>\n",
       "      <td>Supermarket Type1</td>\n",
       "      <td>4710.5350</td>\n",
       "    </tr>\n",
       "    <tr>\n",
       "      <th>1</th>\n",
       "      <td>FDY07</td>\n",
       "      <td>Fruits and Vegetables</td>\n",
       "      <td>11.8</td>\n",
       "      <td>Low Fat</td>\n",
       "      <td>0.000000</td>\n",
       "      <td>45.5402</td>\n",
       "      <td>OUT_049</td>\n",
       "      <td>1999</td>\n",
       "      <td>Medium</td>\n",
       "      <td>Tier 1</td>\n",
       "      <td>Supermarket Type1</td>\n",
       "      <td>1516.0266</td>\n",
       "    </tr>\n",
       "    <tr>\n",
       "      <th>2</th>\n",
       "      <td>FDA03</td>\n",
       "      <td>Dairy</td>\n",
       "      <td>18.5</td>\n",
       "      <td>Regular</td>\n",
       "      <td>0.045464</td>\n",
       "      <td>144.1102</td>\n",
       "      <td>OUT_046</td>\n",
       "      <td>1997</td>\n",
       "      <td>Small</td>\n",
       "      <td>Tier 1</td>\n",
       "      <td>Supermarket Type1</td>\n",
       "      <td>2187.1530</td>\n",
       "    </tr>\n",
       "    <tr>\n",
       "      <th>3</th>\n",
       "      <td>FDX32</td>\n",
       "      <td>Fruits and Vegetables</td>\n",
       "      <td>15.1</td>\n",
       "      <td>Regular</td>\n",
       "      <td>0.100014</td>\n",
       "      <td>145.4786</td>\n",
       "      <td>OUT_049</td>\n",
       "      <td>1999</td>\n",
       "      <td>Medium</td>\n",
       "      <td>Tier 1</td>\n",
       "      <td>Supermarket Type1</td>\n",
       "      <td>1589.2646</td>\n",
       "    </tr>\n",
       "    <tr>\n",
       "      <th>4</th>\n",
       "      <td>FDS46</td>\n",
       "      <td>Snack Foods</td>\n",
       "      <td>17.6</td>\n",
       "      <td>Regular</td>\n",
       "      <td>0.047257</td>\n",
       "      <td>119.6782</td>\n",
       "      <td>OUT_046</td>\n",
       "      <td>1997</td>\n",
       "      <td>Small</td>\n",
       "      <td>Tier 1</td>\n",
       "      <td>Supermarket Type1</td>\n",
       "      <td>2145.2076</td>\n",
       "    </tr>\n",
       "  </tbody>\n",
       "</table>\n",
       "</div>"
      ],
      "text/plain": [
       "    Item               Itemtype  Weight FatContent  Visibility       MRP  \\\n",
       "0  FDU28           Frozen Foods    19.2    Regular    0.094450  187.8214   \n",
       "1  FDY07  Fruits and Vegetables    11.8    Low Fat    0.000000   45.5402   \n",
       "2  FDA03                  Dairy    18.5    Regular    0.045464  144.1102   \n",
       "3  FDX32  Fruits and Vegetables    15.1    Regular    0.100014  145.4786   \n",
       "4  FDS46            Snack Foods    17.6    Regular    0.047257  119.6782   \n",
       "\n",
       "    Outlet  OutletEstablishmentYear OutletSize OutletCity         OutletType  \\\n",
       "0  OUT_017                     2007     Medium     Tier 2  Supermarket Type1   \n",
       "1  OUT_049                     1999     Medium     Tier 1  Supermarket Type1   \n",
       "2  OUT_046                     1997      Small     Tier 1  Supermarket Type1   \n",
       "3  OUT_049                     1999     Medium     Tier 1  Supermarket Type1   \n",
       "4  OUT_046                     1997      Small     Tier 1  Supermarket Type1   \n",
       "\n",
       "       Sales  \n",
       "0  4710.5350  \n",
       "1  1516.0266  \n",
       "2  2187.1530  \n",
       "3  1589.2646  \n",
       "4  2145.2076  "
      ]
     },
     "execution_count": 19,
     "metadata": {},
     "output_type": "execute_result"
    }
   ],
   "source": [
    "df.head()"
   ]
  },
  {
   "cell_type": "code",
   "execution_count": 20,
   "id": "df696212",
   "metadata": {},
   "outputs": [
    {
     "data": {
      "text/html": [
       "<div>\n",
       "<style scoped>\n",
       "    .dataframe tbody tr th:only-of-type {\n",
       "        vertical-align: middle;\n",
       "    }\n",
       "\n",
       "    .dataframe tbody tr th {\n",
       "        vertical-align: top;\n",
       "    }\n",
       "\n",
       "    .dataframe thead th {\n",
       "        text-align: right;\n",
       "    }\n",
       "</style>\n",
       "<table border=\"1\" class=\"dataframe\">\n",
       "  <thead>\n",
       "    <tr style=\"text-align: right;\">\n",
       "      <th></th>\n",
       "      <th>count</th>\n",
       "      <th>mean</th>\n",
       "      <th>std</th>\n",
       "      <th>min</th>\n",
       "      <th>25%</th>\n",
       "      <th>50%</th>\n",
       "      <th>75%</th>\n",
       "      <th>max</th>\n",
       "    </tr>\n",
       "  </thead>\n",
       "  <tbody>\n",
       "    <tr>\n",
       "      <th>Weight</th>\n",
       "      <td>8523.0</td>\n",
       "      <td>12.813420</td>\n",
       "      <td>4.227240</td>\n",
       "      <td>4.555</td>\n",
       "      <td>9.310000</td>\n",
       "      <td>12.600000</td>\n",
       "      <td>16.000000</td>\n",
       "      <td>21.350000</td>\n",
       "    </tr>\n",
       "    <tr>\n",
       "      <th>Visibility</th>\n",
       "      <td>8523.0</td>\n",
       "      <td>0.066132</td>\n",
       "      <td>0.051598</td>\n",
       "      <td>0.000</td>\n",
       "      <td>0.026989</td>\n",
       "      <td>0.053931</td>\n",
       "      <td>0.094585</td>\n",
       "      <td>0.328391</td>\n",
       "    </tr>\n",
       "    <tr>\n",
       "      <th>MRP</th>\n",
       "      <td>8523.0</td>\n",
       "      <td>140.992782</td>\n",
       "      <td>62.275067</td>\n",
       "      <td>31.290</td>\n",
       "      <td>93.826500</td>\n",
       "      <td>143.012800</td>\n",
       "      <td>185.643700</td>\n",
       "      <td>266.888400</td>\n",
       "    </tr>\n",
       "    <tr>\n",
       "      <th>OutletEstablishmentYear</th>\n",
       "      <td>8523.0</td>\n",
       "      <td>1997.831867</td>\n",
       "      <td>8.371760</td>\n",
       "      <td>1985.000</td>\n",
       "      <td>1987.000000</td>\n",
       "      <td>1999.000000</td>\n",
       "      <td>2004.000000</td>\n",
       "      <td>2009.000000</td>\n",
       "    </tr>\n",
       "    <tr>\n",
       "      <th>Sales</th>\n",
       "      <td>8523.0</td>\n",
       "      <td>2181.288914</td>\n",
       "      <td>1706.499616</td>\n",
       "      <td>33.290</td>\n",
       "      <td>834.247400</td>\n",
       "      <td>1794.331000</td>\n",
       "      <td>3101.296400</td>\n",
       "      <td>13086.964800</td>\n",
       "    </tr>\n",
       "  </tbody>\n",
       "</table>\n",
       "</div>"
      ],
      "text/plain": [
       "                          count         mean          std       min  \\\n",
       "Weight                   8523.0    12.813420     4.227240     4.555   \n",
       "Visibility               8523.0     0.066132     0.051598     0.000   \n",
       "MRP                      8523.0   140.992782    62.275067    31.290   \n",
       "OutletEstablishmentYear  8523.0  1997.831867     8.371760  1985.000   \n",
       "Sales                    8523.0  2181.288914  1706.499616    33.290   \n",
       "\n",
       "                                 25%          50%          75%           max  \n",
       "Weight                      9.310000    12.600000    16.000000     21.350000  \n",
       "Visibility                  0.026989     0.053931     0.094585      0.328391  \n",
       "MRP                        93.826500   143.012800   185.643700    266.888400  \n",
       "OutletEstablishmentYear  1987.000000  1999.000000  2004.000000   2009.000000  \n",
       "Sales                     834.247400  1794.331000  3101.296400  13086.964800  "
      ]
     },
     "execution_count": 20,
     "metadata": {},
     "output_type": "execute_result"
    }
   ],
   "source": [
    "df.describe().transpose()"
   ]
  },
  {
   "cell_type": "markdown",
   "id": "7bd17457",
   "metadata": {},
   "source": [
    "__THINGS NEED TO CHECK IN DESCRIPTIVE ANALYSE__\n",
    "\n",
    "1. Count should be equal which means no null values in Dataset\n",
    "2. Features minimum value\n",
    "3. Mean and Median (50%) Difference"
   ]
  },
  {
   "cell_type": "markdown",
   "id": "c9556cb3",
   "metadata": {},
   "source": [
    "__As we have noticed here Visibility minimum value is 0, which is Modify Item_Visibility which makes no practical sense. Lets consider it like missing information and impute it with mean visibility of that product.__"
   ]
  },
  {
   "cell_type": "code",
   "execution_count": 21,
   "id": "faba177a",
   "metadata": {},
   "outputs": [],
   "source": [
    "df['Visibility'] = df['Visibility'].replace(0, np.nan)\n",
    "    \n",
    "df.Visibility = df.Visibility.fillna(df.Visibility.mean())"
   ]
  },
  {
   "cell_type": "code",
   "execution_count": 22,
   "id": "63b56399",
   "metadata": {},
   "outputs": [
    {
     "data": {
      "text/html": [
       "<div>\n",
       "<style scoped>\n",
       "    .dataframe tbody tr th:only-of-type {\n",
       "        vertical-align: middle;\n",
       "    }\n",
       "\n",
       "    .dataframe tbody tr th {\n",
       "        vertical-align: top;\n",
       "    }\n",
       "\n",
       "    .dataframe thead th {\n",
       "        text-align: right;\n",
       "    }\n",
       "</style>\n",
       "<table border=\"1\" class=\"dataframe\">\n",
       "  <thead>\n",
       "    <tr style=\"text-align: right;\">\n",
       "      <th></th>\n",
       "      <th>count</th>\n",
       "      <th>mean</th>\n",
       "      <th>std</th>\n",
       "      <th>min</th>\n",
       "      <th>25%</th>\n",
       "      <th>50%</th>\n",
       "      <th>75%</th>\n",
       "      <th>max</th>\n",
       "    </tr>\n",
       "  </thead>\n",
       "  <tbody>\n",
       "    <tr>\n",
       "      <th>Weight</th>\n",
       "      <td>8523.0</td>\n",
       "      <td>12.813420</td>\n",
       "      <td>4.227240</td>\n",
       "      <td>4.555000</td>\n",
       "      <td>9.310000</td>\n",
       "      <td>12.600000</td>\n",
       "      <td>16.000000</td>\n",
       "      <td>21.350000</td>\n",
       "    </tr>\n",
       "    <tr>\n",
       "      <th>Visibility</th>\n",
       "      <td>8523.0</td>\n",
       "      <td>0.070482</td>\n",
       "      <td>0.048730</td>\n",
       "      <td>0.003575</td>\n",
       "      <td>0.033085</td>\n",
       "      <td>0.062517</td>\n",
       "      <td>0.094585</td>\n",
       "      <td>0.328391</td>\n",
       "    </tr>\n",
       "    <tr>\n",
       "      <th>MRP</th>\n",
       "      <td>8523.0</td>\n",
       "      <td>140.992782</td>\n",
       "      <td>62.275067</td>\n",
       "      <td>31.290000</td>\n",
       "      <td>93.826500</td>\n",
       "      <td>143.012800</td>\n",
       "      <td>185.643700</td>\n",
       "      <td>266.888400</td>\n",
       "    </tr>\n",
       "    <tr>\n",
       "      <th>OutletEstablishmentYear</th>\n",
       "      <td>8523.0</td>\n",
       "      <td>1997.831867</td>\n",
       "      <td>8.371760</td>\n",
       "      <td>1985.000000</td>\n",
       "      <td>1987.000000</td>\n",
       "      <td>1999.000000</td>\n",
       "      <td>2004.000000</td>\n",
       "      <td>2009.000000</td>\n",
       "    </tr>\n",
       "    <tr>\n",
       "      <th>Sales</th>\n",
       "      <td>8523.0</td>\n",
       "      <td>2181.288914</td>\n",
       "      <td>1706.499616</td>\n",
       "      <td>33.290000</td>\n",
       "      <td>834.247400</td>\n",
       "      <td>1794.331000</td>\n",
       "      <td>3101.296400</td>\n",
       "      <td>13086.964800</td>\n",
       "    </tr>\n",
       "  </tbody>\n",
       "</table>\n",
       "</div>"
      ],
      "text/plain": [
       "                          count         mean          std          min  \\\n",
       "Weight                   8523.0    12.813420     4.227240     4.555000   \n",
       "Visibility               8523.0     0.070482     0.048730     0.003575   \n",
       "MRP                      8523.0   140.992782    62.275067    31.290000   \n",
       "OutletEstablishmentYear  8523.0  1997.831867     8.371760  1985.000000   \n",
       "Sales                    8523.0  2181.288914  1706.499616    33.290000   \n",
       "\n",
       "                                 25%          50%          75%           max  \n",
       "Weight                      9.310000    12.600000    16.000000     21.350000  \n",
       "Visibility                  0.033085     0.062517     0.094585      0.328391  \n",
       "MRP                        93.826500   143.012800   185.643700    266.888400  \n",
       "OutletEstablishmentYear  1987.000000  1999.000000  2004.000000   2009.000000  \n",
       "Sales                     834.247400  1794.331000  3101.296400  13086.964800  "
      ]
     },
     "execution_count": 22,
     "metadata": {},
     "output_type": "execute_result"
    }
   ],
   "source": [
    "df.describe().transpose()"
   ]
  },
  {
   "cell_type": "code",
   "execution_count": 23,
   "id": "ad2514cb",
   "metadata": {},
   "outputs": [
    {
     "data": {
      "text/plain": [
       "FDG33    10\n",
       "FDW13    10\n",
       "NCF42     9\n",
       "FDW26     9\n",
       "FDV38     9\n",
       "         ..\n",
       "FDY43     1\n",
       "FDT35     1\n",
       "DRF48     1\n",
       "FDN52     1\n",
       "FDC23     1\n",
       "Name: Item, Length: 1559, dtype: int64"
      ]
     },
     "execution_count": 23,
     "metadata": {},
     "output_type": "execute_result"
    }
   ],
   "source": [
    "# For CATEGORICAL FEATURES\n",
    "\n",
    "df.Item.value_counts()"
   ]
  },
  {
   "cell_type": "code",
   "execution_count": 24,
   "id": "6a083aa5",
   "metadata": {},
   "outputs": [
    {
     "data": {
      "text/plain": [
       "FD    6125\n",
       "NC    1599\n",
       "DR     799\n",
       "Name: Item, dtype: int64"
      ]
     },
     "execution_count": 24,
     "metadata": {},
     "output_type": "execute_result"
    }
   ],
   "source": [
    "#ITEM CODE\n",
    "\n",
    "df.Item.apply(lambda x: x[0:2]).value_counts()"
   ]
  },
  {
   "cell_type": "code",
   "execution_count": 25,
   "id": "7e680be2",
   "metadata": {},
   "outputs": [
    {
     "data": {
      "text/plain": [
       "Fruits and Vegetables    1232\n",
       "Snack Foods              1200\n",
       "Household                 910\n",
       "Frozen Foods              856\n",
       "Dairy                     682\n",
       "Canned                    649\n",
       "Baking Goods              648\n",
       "Health and Hygiene        520\n",
       "Soft Drinks               445\n",
       "Meat                      425\n",
       "Breads                    251\n",
       "Hard Drinks               214\n",
       "Others                    169\n",
       "Starchy Foods             148\n",
       "Breakfast                 110\n",
       "Seafood                    64\n",
       "Name: Itemtype, dtype: int64"
      ]
     },
     "execution_count": 25,
     "metadata": {},
     "output_type": "execute_result"
    }
   ],
   "source": [
    "df.Itemtype.value_counts()"
   ]
  },
  {
   "cell_type": "code",
   "execution_count": 26,
   "id": "6637dc7f",
   "metadata": {},
   "outputs": [
    {
     "data": {
      "text/plain": [
       "Low Fat    5089\n",
       "Regular    2889\n",
       "Low         316\n",
       "reg         117\n",
       "low fat     112\n",
       "Name: FatContent, dtype: int64"
      ]
     },
     "execution_count": 26,
     "metadata": {},
     "output_type": "execute_result"
    }
   ],
   "source": [
    "df.FatContent.value_counts()"
   ]
  },
  {
   "cell_type": "markdown",
   "id": "1274c570",
   "metadata": {},
   "source": [
    "__Here we can see different Abbr. are using for REGULAR AND LOW FAT Category__"
   ]
  },
  {
   "cell_type": "code",
   "execution_count": 27,
   "id": "43be75eb",
   "metadata": {},
   "outputs": [],
   "source": [
    "# Make unique Categories by merging \n",
    "df.FatContent.replace(['low fat','Low','reg'],['Low Fat','Low Fat','Regular'],inplace = True)"
   ]
  },
  {
   "cell_type": "code",
   "execution_count": 28,
   "id": "8ce0801d",
   "metadata": {},
   "outputs": [
    {
     "data": {
      "text/plain": [
       "array(['Regular', 'Low Fat'], dtype=object)"
      ]
     },
     "execution_count": 28,
     "metadata": {},
     "output_type": "execute_result"
    }
   ],
   "source": [
    "df.FatContent.unique()"
   ]
  },
  {
   "cell_type": "code",
   "execution_count": 29,
   "id": "ba54cac3",
   "metadata": {},
   "outputs": [
    {
     "data": {
      "text/plain": [
       "Low Fat    5517\n",
       "Regular    3006\n",
       "Name: FatContent, dtype: int64"
      ]
     },
     "execution_count": 29,
     "metadata": {},
     "output_type": "execute_result"
    }
   ],
   "source": [
    "df.FatContent.value_counts()"
   ]
  },
  {
   "cell_type": "code",
   "execution_count": 30,
   "id": "2108f7fa",
   "metadata": {},
   "outputs": [
    {
     "data": {
      "text/plain": [
       "OUT_027    935\n",
       "OUT_013    932\n",
       "OUT_035    930\n",
       "OUT_049    930\n",
       "OUT_046    930\n",
       "OUT_045    929\n",
       "OUT_018    928\n",
       "OUT_017    926\n",
       "OUT_010    555\n",
       "OUT_019    528\n",
       "Name: Outlet, dtype: int64"
      ]
     },
     "execution_count": 30,
     "metadata": {},
     "output_type": "execute_result"
    }
   ],
   "source": [
    "df.Outlet.value_counts()"
   ]
  },
  {
   "cell_type": "code",
   "execution_count": 31,
   "id": "3884b95f",
   "metadata": {},
   "outputs": [
    {
     "data": {
      "text/plain": [
       "Medium    5203\n",
       "Small     2388\n",
       "High       932\n",
       "Name: OutletSize, dtype: int64"
      ]
     },
     "execution_count": 31,
     "metadata": {},
     "output_type": "execute_result"
    }
   ],
   "source": [
    "df.OutletSize.value_counts()"
   ]
  },
  {
   "cell_type": "code",
   "execution_count": 32,
   "id": "fec5536f",
   "metadata": {},
   "outputs": [
    {
     "data": {
      "text/plain": [
       "Tier 3    3350\n",
       "Tier 2    2785\n",
       "Tier 1    2388\n",
       "Name: OutletCity, dtype: int64"
      ]
     },
     "execution_count": 32,
     "metadata": {},
     "output_type": "execute_result"
    }
   ],
   "source": [
    "df.OutletCity.value_counts()"
   ]
  },
  {
   "cell_type": "code",
   "execution_count": 33,
   "id": "f78d3afb",
   "metadata": {},
   "outputs": [
    {
     "data": {
      "text/plain": [
       "Supermarket Type1    5577\n",
       "Grocery Store        1083\n",
       "Supermarket Type3     935\n",
       "Supermarket Type2     928\n",
       "Name: OutletType, dtype: int64"
      ]
     },
     "execution_count": 33,
     "metadata": {},
     "output_type": "execute_result"
    }
   ],
   "source": [
    "df.OutletType.value_counts()"
   ]
  },
  {
   "cell_type": "code",
   "execution_count": 34,
   "id": "31bc0741",
   "metadata": {},
   "outputs": [
    {
     "data": {
      "text/html": [
       "<div>\n",
       "<style scoped>\n",
       "    .dataframe tbody tr th:only-of-type {\n",
       "        vertical-align: middle;\n",
       "    }\n",
       "\n",
       "    .dataframe tbody tr th {\n",
       "        vertical-align: top;\n",
       "    }\n",
       "\n",
       "    .dataframe thead th {\n",
       "        text-align: right;\n",
       "    }\n",
       "</style>\n",
       "<table border=\"1\" class=\"dataframe\">\n",
       "  <thead>\n",
       "    <tr style=\"text-align: right;\">\n",
       "      <th></th>\n",
       "      <th>Weight</th>\n",
       "      <th>Visibility</th>\n",
       "      <th>MRP</th>\n",
       "      <th>OutletEstablishmentYear</th>\n",
       "      <th>Sales</th>\n",
       "    </tr>\n",
       "  </thead>\n",
       "  <tbody>\n",
       "    <tr>\n",
       "      <th>Weight</th>\n",
       "      <td>1.000000</td>\n",
       "      <td>-0.020003</td>\n",
       "      <td>0.024951</td>\n",
       "      <td>0.007739</td>\n",
       "      <td>0.009693</td>\n",
       "    </tr>\n",
       "    <tr>\n",
       "      <th>Visibility</th>\n",
       "      <td>-0.020003</td>\n",
       "      <td>1.000000</td>\n",
       "      <td>-0.005515</td>\n",
       "      <td>-0.078316</td>\n",
       "      <td>-0.134035</td>\n",
       "    </tr>\n",
       "    <tr>\n",
       "      <th>MRP</th>\n",
       "      <td>0.024951</td>\n",
       "      <td>-0.005515</td>\n",
       "      <td>1.000000</td>\n",
       "      <td>0.005020</td>\n",
       "      <td>0.567574</td>\n",
       "    </tr>\n",
       "    <tr>\n",
       "      <th>OutletEstablishmentYear</th>\n",
       "      <td>0.007739</td>\n",
       "      <td>-0.078316</td>\n",
       "      <td>0.005020</td>\n",
       "      <td>1.000000</td>\n",
       "      <td>-0.049135</td>\n",
       "    </tr>\n",
       "    <tr>\n",
       "      <th>Sales</th>\n",
       "      <td>0.009693</td>\n",
       "      <td>-0.134035</td>\n",
       "      <td>0.567574</td>\n",
       "      <td>-0.049135</td>\n",
       "      <td>1.000000</td>\n",
       "    </tr>\n",
       "  </tbody>\n",
       "</table>\n",
       "</div>"
      ],
      "text/plain": [
       "                           Weight  Visibility       MRP  \\\n",
       "Weight                   1.000000   -0.020003  0.024951   \n",
       "Visibility              -0.020003    1.000000 -0.005515   \n",
       "MRP                      0.024951   -0.005515  1.000000   \n",
       "OutletEstablishmentYear  0.007739   -0.078316  0.005020   \n",
       "Sales                    0.009693   -0.134035  0.567574   \n",
       "\n",
       "                         OutletEstablishmentYear     Sales  \n",
       "Weight                                  0.007739  0.009693  \n",
       "Visibility                             -0.078316 -0.134035  \n",
       "MRP                                     0.005020  0.567574  \n",
       "OutletEstablishmentYear                 1.000000 -0.049135  \n",
       "Sales                                  -0.049135  1.000000  "
      ]
     },
     "execution_count": 34,
     "metadata": {},
     "output_type": "execute_result"
    }
   ],
   "source": [
    "df.corr()"
   ]
  },
  {
   "cell_type": "code",
   "execution_count": 35,
   "id": "c49bee6b",
   "metadata": {},
   "outputs": [
    {
     "data": {
      "text/plain": [
       "<AxesSubplot:>"
      ]
     },
     "execution_count": 35,
     "metadata": {},
     "output_type": "execute_result"
    },
    {
     "data": {
      "image/png": "[encoded data removed]",
      "text/plain": [
       "<Figure size 1080x720 with 2 Axes>"
      ]
     },
     "metadata": {
      "needs_background": "light"
     },
     "output_type": "display_data"
    }
   ],
   "source": [
    "# Correlation matrix\n",
    "\n",
    "sns.heatmap(df.corr(), square=True)"
   ]
  },
  {
   "cell_type": "markdown",
   "id": "7408c4ca",
   "metadata": {},
   "source": [
    "## Expolatory Data Analyse (EDA)"
   ]
  },
  {
   "cell_type": "markdown",
   "id": "c53693ad",
   "metadata": {},
   "source": [
    "__For CATEGORICAL FEATURES we have Countplot / Barplot__"
   ]
  },
  {
   "cell_type": "code",
   "execution_count": 36,
   "id": "4770ba34",
   "metadata": {},
   "outputs": [
    {
     "name": "stdout",
     "output_type": "stream",
     "text": [
      "Item\n",
      "Itemtype\n",
      "FatContent\n",
      "Outlet\n",
      "OutletSize\n",
      "OutletCity\n",
      "OutletType\n"
     ]
    }
   ],
   "source": [
    "#categorical features\n",
    "for i in categorical:\n",
    "    print(i)"
   ]
  },
  {
   "cell_type": "markdown",
   "id": "0554356b",
   "metadata": {},
   "source": [
    "__What you thing, feature \"ITEM\" give us some good information?__"
   ]
  },
  {
   "cell_type": "code",
   "execution_count": 37,
   "id": "088320a7",
   "metadata": {},
   "outputs": [
    {
     "data": {
      "image/png": "[encoded data removed]",
      "text/plain": [
       "<Figure size 1800x504 with 1 Axes>"
      ]
     },
     "metadata": {
      "needs_background": "light"
     },
     "output_type": "display_data"
    }
   ],
   "source": [
    "plt.figure(figsize = (25,7))\n",
    "sns.countplot('Itemtype', data = df)\n",
    "plt.show()"
   ]
  },
  {
   "cell_type": "markdown",
   "id": "f3c50a1e",
   "metadata": {},
   "source": [
    "* __Fruits and Vegetables are largely sold as people tend to use them on daily purpose.__\n",
    "* __Snack Foods too have good sales.__"
   ]
  },
  {
   "cell_type": "code",
   "execution_count": 38,
   "id": "3735cf88",
   "metadata": {},
   "outputs": [
    {
     "data": {
      "image/png": "[encoded data removed]",
      "text/plain": [
       "<Figure size 360x360 with 1 Axes>"
      ]
     },
     "metadata": {
      "needs_background": "light"
     },
     "output_type": "display_data"
    }
   ],
   "source": [
    "plt.figure(figsize = (5, 5))\n",
    "sns.countplot('FatContent', data = df)\n",
    "plt.show()"
   ]
  },
  {
   "cell_type": "markdown",
   "id": "3e094e7a",
   "metadata": {},
   "source": [
    "__The Items bought are more of Low Fat.__"
   ]
  },
  {
   "cell_type": "code",
   "execution_count": 39,
   "id": "b6e01e32",
   "metadata": {},
   "outputs": [
    {
     "data": {
      "image/png": "[encoded data removed]",
      "text/plain": [
       "<Figure size 1080x360 with 1 Axes>"
      ]
     },
     "metadata": {
      "needs_background": "light"
     },
     "output_type": "display_data"
    }
   ],
   "source": [
    "plt.figure(figsize = (15,5))\n",
    "sns.countplot('Outlet', data = df, palette='summer')\n",
    "plt.show()"
   ]
  },
  {
   "cell_type": "code",
   "execution_count": 40,
   "id": "1450c9c3",
   "metadata": {},
   "outputs": [
    {
     "data": {
      "image/png": "[encoded data removed]",
      "text/plain": [
       "<Figure size 1080x360 with 1 Axes>"
      ]
     },
     "metadata": {
      "needs_background": "light"
     },
     "output_type": "display_data"
    }
   ],
   "source": [
    "plt.figure(figsize = (15,5))\n",
    "sns.countplot('OutletSize', data = df, palette='spring')\n",
    "plt.show()"
   ]
  },
  {
   "cell_type": "markdown",
   "id": "a25dd765",
   "metadata": {},
   "source": [
    "* __The Outlets are more of Medium Size__"
   ]
  },
  {
   "cell_type": "code",
   "execution_count": 41,
   "id": "555d5384",
   "metadata": {},
   "outputs": [
    {
     "data": {
      "image/png": "[encoded data removed]",
      "text/plain": [
       "<Figure size 1080x360 with 1 Axes>"
      ]
     },
     "metadata": {
      "needs_background": "light"
     },
     "output_type": "display_data"
    }
   ],
   "source": [
    "plt.figure(figsize = (15,5))\n",
    "sns.countplot('OutletCity', data = df, palette='autumn')\n",
    "plt.show()"
   ]
  },
  {
   "cell_type": "markdown",
   "id": "80c25d27",
   "metadata": {},
   "source": [
    "* __The Outlets are maximum in number in Tier 3 Cities__"
   ]
  },
  {
   "cell_type": "code",
   "execution_count": 42,
   "id": "3589ecbf",
   "metadata": {},
   "outputs": [
    {
     "data": {
      "image/png": "[encoded data removed]",
      "text/plain": [
       "<Figure size 1440x720 with 1 Axes>"
      ]
     },
     "metadata": {
      "needs_background": "light"
     },
     "output_type": "display_data"
    }
   ],
   "source": [
    "plt.figure(figsize = (20,10))\n",
    "sns.countplot('OutletType', data = df, palette='ocean')\n",
    "plt.show()"
   ]
  },
  {
   "cell_type": "markdown",
   "id": "746b97f3",
   "metadata": {},
   "source": [
    "* __The Outlets are more of Supermarket Type1__"
   ]
  },
  {
   "cell_type": "code",
   "execution_count": 43,
   "id": "11cb91c2",
   "metadata": {},
   "outputs": [
    {
     "data": {
      "image/png": "[encoded data removed]",
      "text/plain": [
       "<Figure size 1440x720 with 1 Axes>"
      ]
     },
     "metadata": {
      "needs_background": "light"
     },
     "output_type": "display_data"
    }
   ],
   "source": [
    "plt.figure(figsize = (20,10))\n",
    "sns.countplot('OutletEstablishmentYear', data = df, palette='ocean')\n",
    "plt.show()"
   ]
  },
  {
   "cell_type": "code",
   "execution_count": 44,
   "id": "90c38ac7",
   "metadata": {},
   "outputs": [
    {
     "data": {
      "text/plain": [
       "<AxesSubplot:xlabel='Sales', ylabel='Itemtype'>"
      ]
     },
     "execution_count": 44,
     "metadata": {},
     "output_type": "execute_result"
    },
    {
     "data": {
      "image/png": "[encoded data removed]",
      "text/plain": [
       "<Figure size 720x576 with 1 Axes>"
      ]
     },
     "metadata": {
      "needs_background": "light"
     },
     "output_type": "display_data"
    }
   ],
   "source": [
    "#Categorical and Numerical Graph \n",
    "\n",
    "plt.figure(figsize=(10,8))\n",
    "sns.barplot(y='Itemtype', x='Sales',data=df)"
   ]
  },
  {
   "cell_type": "markdown",
   "id": "c93788ee",
   "metadata": {},
   "source": [
    "* __The products available were Fruits-Veggies and Snack Foods but the sales of Seafood and Starchy Foods seems higher and hence the sales can be improved with having stock of products that are most bought by customers.__"
   ]
  },
  {
   "cell_type": "code",
   "execution_count": 45,
   "id": "b8fec2f7",
   "metadata": {},
   "outputs": [
    {
     "data": {
      "text/plain": [
       "<AxesSubplot:xlabel='OutletEstablishmentYear'>"
      ]
     },
     "execution_count": 45,
     "metadata": {},
     "output_type": "execute_result"
    },
    {
     "data": {
      "image/png": "[encoded data removed]",
      "text/plain": [
       "<Figure size 1080x720 with 1 Axes>"
      ]
     },
     "metadata": {
      "needs_background": "light"
     },
     "output_type": "display_data"
    }
   ],
   "source": [
    "df.groupby('OutletEstablishmentYear')['Sales'].mean().plot.bar()"
   ]
  },
  {
   "cell_type": "markdown",
   "id": "0c2f44d6",
   "metadata": {},
   "source": [
    "## Feature Engineering "
   ]
  },
  {
   "cell_type": "markdown",
   "id": "2dd49052",
   "metadata": {},
   "source": [
    "__Determine the years of operation of a store__"
   ]
  },
  {
   "cell_type": "code",
   "execution_count": 46,
   "id": "8984e084",
   "metadata": {},
   "outputs": [
    {
     "data": {
      "text/html": [
       "<div>\n",
       "<style scoped>\n",
       "    .dataframe tbody tr th:only-of-type {\n",
       "        vertical-align: middle;\n",
       "    }\n",
       "\n",
       "    .dataframe tbody tr th {\n",
       "        vertical-align: top;\n",
       "    }\n",
       "\n",
       "    .dataframe thead th {\n",
       "        text-align: right;\n",
       "    }\n",
       "</style>\n",
       "<table border=\"1\" class=\"dataframe\">\n",
       "  <thead>\n",
       "    <tr style=\"text-align: right;\">\n",
       "      <th></th>\n",
       "      <th>Item</th>\n",
       "      <th>Itemtype</th>\n",
       "      <th>Weight</th>\n",
       "      <th>FatContent</th>\n",
       "      <th>Visibility</th>\n",
       "      <th>MRP</th>\n",
       "      <th>Outlet</th>\n",
       "      <th>OutletEstablishmentYear</th>\n",
       "      <th>OutletSize</th>\n",
       "      <th>OutletCity</th>\n",
       "      <th>OutletType</th>\n",
       "      <th>Sales</th>\n",
       "      <th>Years</th>\n",
       "    </tr>\n",
       "  </thead>\n",
       "  <tbody>\n",
       "    <tr>\n",
       "      <th>0</th>\n",
       "      <td>FDU28</td>\n",
       "      <td>Frozen Foods</td>\n",
       "      <td>19.2</td>\n",
       "      <td>Regular</td>\n",
       "      <td>0.094450</td>\n",
       "      <td>187.8214</td>\n",
       "      <td>OUT_017</td>\n",
       "      <td>2007</td>\n",
       "      <td>Medium</td>\n",
       "      <td>Tier 2</td>\n",
       "      <td>Supermarket Type1</td>\n",
       "      <td>4710.5350</td>\n",
       "      <td>15</td>\n",
       "    </tr>\n",
       "    <tr>\n",
       "      <th>1</th>\n",
       "      <td>FDY07</td>\n",
       "      <td>Fruits and Vegetables</td>\n",
       "      <td>11.8</td>\n",
       "      <td>Low Fat</td>\n",
       "      <td>0.070482</td>\n",
       "      <td>45.5402</td>\n",
       "      <td>OUT_049</td>\n",
       "      <td>1999</td>\n",
       "      <td>Medium</td>\n",
       "      <td>Tier 1</td>\n",
       "      <td>Supermarket Type1</td>\n",
       "      <td>1516.0266</td>\n",
       "      <td>23</td>\n",
       "    </tr>\n",
       "    <tr>\n",
       "      <th>2</th>\n",
       "      <td>FDA03</td>\n",
       "      <td>Dairy</td>\n",
       "      <td>18.5</td>\n",
       "      <td>Regular</td>\n",
       "      <td>0.045464</td>\n",
       "      <td>144.1102</td>\n",
       "      <td>OUT_046</td>\n",
       "      <td>1997</td>\n",
       "      <td>Small</td>\n",
       "      <td>Tier 1</td>\n",
       "      <td>Supermarket Type1</td>\n",
       "      <td>2187.1530</td>\n",
       "      <td>25</td>\n",
       "    </tr>\n",
       "    <tr>\n",
       "      <th>3</th>\n",
       "      <td>FDX32</td>\n",
       "      <td>Fruits and Vegetables</td>\n",
       "      <td>15.1</td>\n",
       "      <td>Regular</td>\n",
       "      <td>0.100014</td>\n",
       "      <td>145.4786</td>\n",
       "      <td>OUT_049</td>\n",
       "      <td>1999</td>\n",
       "      <td>Medium</td>\n",
       "      <td>Tier 1</td>\n",
       "      <td>Supermarket Type1</td>\n",
       "      <td>1589.2646</td>\n",
       "      <td>23</td>\n",
       "    </tr>\n",
       "    <tr>\n",
       "      <th>4</th>\n",
       "      <td>FDS46</td>\n",
       "      <td>Snack Foods</td>\n",
       "      <td>17.6</td>\n",
       "      <td>Regular</td>\n",
       "      <td>0.047257</td>\n",
       "      <td>119.6782</td>\n",
       "      <td>OUT_046</td>\n",
       "      <td>1997</td>\n",
       "      <td>Small</td>\n",
       "      <td>Tier 1</td>\n",
       "      <td>Supermarket Type1</td>\n",
       "      <td>2145.2076</td>\n",
       "      <td>25</td>\n",
       "    </tr>\n",
       "  </tbody>\n",
       "</table>\n",
       "</div>"
      ],
      "text/plain": [
       "    Item               Itemtype  Weight FatContent  Visibility       MRP  \\\n",
       "0  FDU28           Frozen Foods    19.2    Regular    0.094450  187.8214   \n",
       "1  FDY07  Fruits and Vegetables    11.8    Low Fat    0.070482   45.5402   \n",
       "2  FDA03                  Dairy    18.5    Regular    0.045464  144.1102   \n",
       "3  FDX32  Fruits and Vegetables    15.1    Regular    0.100014  145.4786   \n",
       "4  FDS46            Snack Foods    17.6    Regular    0.047257  119.6782   \n",
       "\n",
       "    Outlet  OutletEstablishmentYear OutletSize OutletCity         OutletType  \\\n",
       "0  OUT_017                     2007     Medium     Tier 2  Supermarket Type1   \n",
       "1  OUT_049                     1999     Medium     Tier 1  Supermarket Type1   \n",
       "2  OUT_046                     1997      Small     Tier 1  Supermarket Type1   \n",
       "3  OUT_049                     1999     Medium     Tier 1  Supermarket Type1   \n",
       "4  OUT_046                     1997      Small     Tier 1  Supermarket Type1   \n",
       "\n",
       "       Sales  Years  \n",
       "0  4710.5350     15  \n",
       "1  1516.0266     23  \n",
       "2  2187.1530     25  \n",
       "3  1589.2646     23  \n",
       "4  2145.2076     25  "
      ]
     },
     "execution_count": 46,
     "metadata": {},
     "output_type": "execute_result"
    }
   ],
   "source": [
    "#Years:\n",
    "df['Years'] = 2022 - df['OutletEstablishmentYear']\n",
    "df.head()"
   ]
  },
  {
   "cell_type": "code",
   "execution_count": 47,
   "id": "4a6fc673",
   "metadata": {},
   "outputs": [
    {
     "data": {
      "text/plain": [
       "37    1463\n",
       "35     932\n",
       "25     930\n",
       "18     930\n",
       "23     930\n",
       "20     929\n",
       "13     928\n",
       "15     926\n",
       "24     555\n",
       "Name: Years, dtype: int64"
      ]
     },
     "execution_count": 47,
     "metadata": {},
     "output_type": "execute_result"
    }
   ],
   "source": [
    "df.Years.value_counts()"
   ]
  },
  {
   "cell_type": "code",
   "execution_count": 48,
   "id": "2184ba66",
   "metadata": {},
   "outputs": [
    {
     "data": {
      "text/html": [
       "<div>\n",
       "<style scoped>\n",
       "    .dataframe tbody tr th:only-of-type {\n",
       "        vertical-align: middle;\n",
       "    }\n",
       "\n",
       "    .dataframe tbody tr th {\n",
       "        vertical-align: top;\n",
       "    }\n",
       "\n",
       "    .dataframe thead th {\n",
       "        text-align: right;\n",
       "    }\n",
       "</style>\n",
       "<table border=\"1\" class=\"dataframe\">\n",
       "  <thead>\n",
       "    <tr style=\"text-align: right;\">\n",
       "      <th></th>\n",
       "      <th>Item</th>\n",
       "      <th>Itemtype</th>\n",
       "      <th>Weight</th>\n",
       "      <th>FatContent</th>\n",
       "      <th>Visibility</th>\n",
       "      <th>MRP</th>\n",
       "      <th>Outlet</th>\n",
       "      <th>OutletSize</th>\n",
       "      <th>OutletCity</th>\n",
       "      <th>OutletType</th>\n",
       "      <th>Sales</th>\n",
       "      <th>Years</th>\n",
       "    </tr>\n",
       "  </thead>\n",
       "  <tbody>\n",
       "    <tr>\n",
       "      <th>0</th>\n",
       "      <td>FDU28</td>\n",
       "      <td>Frozen Foods</td>\n",
       "      <td>19.2</td>\n",
       "      <td>Regular</td>\n",
       "      <td>0.094450</td>\n",
       "      <td>187.8214</td>\n",
       "      <td>OUT_017</td>\n",
       "      <td>Medium</td>\n",
       "      <td>Tier 2</td>\n",
       "      <td>Supermarket Type1</td>\n",
       "      <td>4710.5350</td>\n",
       "      <td>15</td>\n",
       "    </tr>\n",
       "    <tr>\n",
       "      <th>1</th>\n",
       "      <td>FDY07</td>\n",
       "      <td>Fruits and Vegetables</td>\n",
       "      <td>11.8</td>\n",
       "      <td>Low Fat</td>\n",
       "      <td>0.070482</td>\n",
       "      <td>45.5402</td>\n",
       "      <td>OUT_049</td>\n",
       "      <td>Medium</td>\n",
       "      <td>Tier 1</td>\n",
       "      <td>Supermarket Type1</td>\n",
       "      <td>1516.0266</td>\n",
       "      <td>23</td>\n",
       "    </tr>\n",
       "  </tbody>\n",
       "</table>\n",
       "</div>"
      ],
      "text/plain": [
       "    Item               Itemtype  Weight FatContent  Visibility       MRP  \\\n",
       "0  FDU28           Frozen Foods    19.2    Regular    0.094450  187.8214   \n",
       "1  FDY07  Fruits and Vegetables    11.8    Low Fat    0.070482   45.5402   \n",
       "\n",
       "    Outlet OutletSize OutletCity         OutletType      Sales  Years  \n",
       "0  OUT_017     Medium     Tier 2  Supermarket Type1  4710.5350     15  \n",
       "1  OUT_049     Medium     Tier 1  Supermarket Type1  1516.0266     23  "
      ]
     },
     "execution_count": 48,
     "metadata": {},
     "output_type": "execute_result"
    }
   ],
   "source": [
    "#Now we don't need OutletEstablishmentYear Feature anymore\n",
    "\n",
    "df.drop(\"OutletEstablishmentYear\", axis = 1, inplace = True)\n",
    "df.head(2)"
   ]
  },
  {
   "cell_type": "markdown",
   "id": "a95a5604",
   "metadata": {},
   "source": [
    "__Create a broad category of Type of Item__"
   ]
  },
  {
   "cell_type": "code",
   "execution_count": 49,
   "id": "d4fcfe00",
   "metadata": {},
   "outputs": [],
   "source": [
    "df['ItemCategory'] = df['Item'].apply(lambda x: x[0:2])\n",
    "df['ItemCategory'] = df['ItemCategory'].map({'FD':'Food','NC':'Non-Consumable','DR':'Drinks'})"
   ]
  },
  {
   "cell_type": "code",
   "execution_count": 50,
   "id": "9ecd5c2b",
   "metadata": {},
   "outputs": [
    {
     "data": {
      "text/plain": [
       "Food              6125\n",
       "Non-Consumable    1599\n",
       "Drinks             799\n",
       "Name: ItemCategory, dtype: int64"
      ]
     },
     "execution_count": 50,
     "metadata": {},
     "output_type": "execute_result"
    }
   ],
   "source": [
    "df.ItemCategory.value_counts()"
   ]
  },
  {
   "cell_type": "code",
   "execution_count": 51,
   "id": "3a9dab04",
   "metadata": {},
   "outputs": [
    {
     "data": {
      "text/html": [
       "<div>\n",
       "<style scoped>\n",
       "    .dataframe tbody tr th:only-of-type {\n",
       "        vertical-align: middle;\n",
       "    }\n",
       "\n",
       "    .dataframe tbody tr th {\n",
       "        vertical-align: top;\n",
       "    }\n",
       "\n",
       "    .dataframe thead th {\n",
       "        text-align: right;\n",
       "    }\n",
       "</style>\n",
       "<table border=\"1\" class=\"dataframe\">\n",
       "  <thead>\n",
       "    <tr style=\"text-align: right;\">\n",
       "      <th></th>\n",
       "      <th>Itemtype</th>\n",
       "      <th>Weight</th>\n",
       "      <th>FatContent</th>\n",
       "      <th>Visibility</th>\n",
       "      <th>MRP</th>\n",
       "      <th>Outlet</th>\n",
       "      <th>OutletSize</th>\n",
       "      <th>OutletCity</th>\n",
       "      <th>OutletType</th>\n",
       "      <th>Sales</th>\n",
       "      <th>Years</th>\n",
       "      <th>ItemCategory</th>\n",
       "    </tr>\n",
       "  </thead>\n",
       "  <tbody>\n",
       "    <tr>\n",
       "      <th>0</th>\n",
       "      <td>Frozen Foods</td>\n",
       "      <td>19.2</td>\n",
       "      <td>Regular</td>\n",
       "      <td>0.094450</td>\n",
       "      <td>187.8214</td>\n",
       "      <td>OUT_017</td>\n",
       "      <td>Medium</td>\n",
       "      <td>Tier 2</td>\n",
       "      <td>Supermarket Type1</td>\n",
       "      <td>4710.5350</td>\n",
       "      <td>15</td>\n",
       "      <td>Food</td>\n",
       "    </tr>\n",
       "    <tr>\n",
       "      <th>1</th>\n",
       "      <td>Fruits and Vegetables</td>\n",
       "      <td>11.8</td>\n",
       "      <td>Low Fat</td>\n",
       "      <td>0.070482</td>\n",
       "      <td>45.5402</td>\n",
       "      <td>OUT_049</td>\n",
       "      <td>Medium</td>\n",
       "      <td>Tier 1</td>\n",
       "      <td>Supermarket Type1</td>\n",
       "      <td>1516.0266</td>\n",
       "      <td>23</td>\n",
       "      <td>Food</td>\n",
       "    </tr>\n",
       "  </tbody>\n",
       "</table>\n",
       "</div>"
      ],
      "text/plain": [
       "                Itemtype  Weight FatContent  Visibility       MRP   Outlet  \\\n",
       "0           Frozen Foods    19.2    Regular    0.094450  187.8214  OUT_017   \n",
       "1  Fruits and Vegetables    11.8    Low Fat    0.070482   45.5402  OUT_049   \n",
       "\n",
       "  OutletSize OutletCity         OutletType      Sales  Years ItemCategory  \n",
       "0     Medium     Tier 2  Supermarket Type1  4710.5350     15         Food  \n",
       "1     Medium     Tier 1  Supermarket Type1  1516.0266     23         Food  "
      ]
     },
     "execution_count": 51,
     "metadata": {},
     "output_type": "execute_result"
    }
   ],
   "source": [
    "#Now we don't need Item Feature anymore\n",
    "\n",
    "df.drop(\"Item\", axis = 1, inplace = True)\n",
    "df.head(2)"
   ]
  },
  {
   "cell_type": "code",
   "execution_count": 52,
   "id": "a5330434",
   "metadata": {},
   "outputs": [
    {
     "data": {
      "image/png": "[encoded data removed]",
      "text/plain": [
       "<Figure size 720x360 with 1 Axes>"
      ]
     },
     "metadata": {
      "needs_background": "light"
     },
     "output_type": "display_data"
    }
   ],
   "source": [
    "plt.figure(figsize = (10,5))\n",
    "sns.countplot('ItemCategory', data = df)\n",
    "plt.show()"
   ]
  },
  {
   "cell_type": "markdown",
   "id": "1f649bbe",
   "metadata": {},
   "source": [
    "__Modify categories of Item_Fat_Content__"
   ]
  },
  {
   "cell_type": "code",
   "execution_count": 53,
   "id": "b21de534",
   "metadata": {},
   "outputs": [
    {
     "data": {
      "text/plain": [
       "Low Fat       3918\n",
       "Regular       3006\n",
       "Non-Edible    1599\n",
       "Name: FatContent, dtype: int64"
      ]
     },
     "execution_count": 53,
     "metadata": {},
     "output_type": "execute_result"
    }
   ],
   "source": [
    "#Mark non-consumables as separate category in low_fat:\n",
    "\n",
    "df.loc[df['ItemCategory'] == \"Non-Consumable\", 'FatContent'] = \"Non-Edible\"\n",
    "df['FatContent'].value_counts()"
   ]
  },
  {
   "cell_type": "markdown",
   "id": "7b19944c",
   "metadata": {},
   "source": [
    "### Lets now see how Sales is distributed"
   ]
  },
  {
   "cell_type": "code",
   "execution_count": 54,
   "id": "004672af",
   "metadata": {},
   "outputs": [
    {
     "data": {
      "text/plain": [
       "Text(0.5, 1.0, 'Sales Distribution')"
      ]
     },
     "execution_count": 54,
     "metadata": {},
     "output_type": "execute_result"
    },
    {
     "data": {
      "image/png": "[encoded data removed]",
      "text/plain": [
       "<Figure size 1440x720 with 1 Axes>"
      ]
     },
     "metadata": {
      "needs_background": "light"
     },
     "output_type": "display_data"
    }
   ],
   "source": [
    "plt.figure(figsize=(20,10))\n",
    "sns.distplot(df.Sales, bins = 25)\n",
    "plt.title(\"Sales Distribution\")"
   ]
  },
  {
   "cell_type": "code",
   "execution_count": 55,
   "id": "6a8bf13e",
   "metadata": {},
   "outputs": [
    {
     "name": "stdout",
     "output_type": "stream",
     "text": [
      "Skew is:  1.1775306028542796\n",
      "Kurtosis: 1.62\n"
     ]
    }
   ],
   "source": [
    "print(\"Skew is: \", df.Sales.skew())\n",
    "print(\"Kurtosis: %.2f\" % df.Sales.kurt())"
   ]
  },
  {
   "cell_type": "markdown",
   "id": "753b40ea",
   "metadata": {},
   "source": [
    "__We can see that our target variable is skewed towards the right. Therefore, we have to normalize it.__"
   ]
  },
  {
   "cell_type": "markdown",
   "id": "d994be1b",
   "metadata": {},
   "source": [
    "### Numerical and One-Hot Coding of Categorical variables"
   ]
  },
  {
   "cell_type": "code",
   "execution_count": 56,
   "id": "113c8375",
   "metadata": {},
   "outputs": [
    {
     "data": {
      "text/plain": [
       "Index(['Itemtype', 'FatContent', 'Outlet', 'OutletSize', 'OutletCity',\n",
       "       'OutletType', 'ItemCategory'],\n",
       "      dtype='object')"
      ]
     },
     "execution_count": 56,
     "metadata": {},
     "output_type": "execute_result"
    }
   ],
   "source": [
    "catg = df.select_dtypes(include = [np.object])\n",
    "catg.columns"
   ]
  },
  {
   "cell_type": "code",
   "execution_count": 57,
   "id": "7b81d8fd",
   "metadata": {},
   "outputs": [],
   "source": [
    "var_mod = ['Itemtype', 'FatContent', 'Outlet', 'OutletSize', 'OutletCity',\n",
    "       'OutletType', 'ItemCategory']\n",
    "le = LabelEncoder()\n",
    "for i in var_mod:\n",
    "    df[i] = le.fit_transform(df[i])"
   ]
  },
  {
   "cell_type": "code",
   "execution_count": 58,
   "id": "2f5ff10d",
   "metadata": {},
   "outputs": [],
   "source": [
    "#One Hot Coding:\n",
    "df= pd.get_dummies(df, columns=var_mod)"
   ]
  },
  {
   "cell_type": "code",
   "execution_count": 59,
   "id": "535a3710",
   "metadata": {},
   "outputs": [
    {
     "data": {
      "text/html": [
       "<div>\n",
       "<style scoped>\n",
       "    .dataframe tbody tr th:only-of-type {\n",
       "        vertical-align: middle;\n",
       "    }\n",
       "\n",
       "    .dataframe tbody tr th {\n",
       "        vertical-align: top;\n",
       "    }\n",
       "\n",
       "    .dataframe thead th {\n",
       "        text-align: right;\n",
       "    }\n",
       "</style>\n",
       "<table border=\"1\" class=\"dataframe\">\n",
       "  <thead>\n",
       "    <tr style=\"text-align: right;\">\n",
       "      <th></th>\n",
       "      <th>Weight</th>\n",
       "      <th>Visibility</th>\n",
       "      <th>MRP</th>\n",
       "      <th>Sales</th>\n",
       "      <th>Years</th>\n",
       "      <th>Itemtype_0</th>\n",
       "      <th>Itemtype_1</th>\n",
       "      <th>Itemtype_2</th>\n",
       "      <th>Itemtype_3</th>\n",
       "      <th>Itemtype_4</th>\n",
       "      <th>...</th>\n",
       "      <th>OutletCity_0</th>\n",
       "      <th>OutletCity_1</th>\n",
       "      <th>OutletCity_2</th>\n",
       "      <th>OutletType_0</th>\n",
       "      <th>OutletType_1</th>\n",
       "      <th>OutletType_2</th>\n",
       "      <th>OutletType_3</th>\n",
       "      <th>ItemCategory_0</th>\n",
       "      <th>ItemCategory_1</th>\n",
       "      <th>ItemCategory_2</th>\n",
       "    </tr>\n",
       "  </thead>\n",
       "  <tbody>\n",
       "    <tr>\n",
       "      <th>0</th>\n",
       "      <td>19.2</td>\n",
       "      <td>0.094450</td>\n",
       "      <td>187.8214</td>\n",
       "      <td>4710.5350</td>\n",
       "      <td>15</td>\n",
       "      <td>0</td>\n",
       "      <td>0</td>\n",
       "      <td>0</td>\n",
       "      <td>0</td>\n",
       "      <td>0</td>\n",
       "      <td>...</td>\n",
       "      <td>0</td>\n",
       "      <td>1</td>\n",
       "      <td>0</td>\n",
       "      <td>0</td>\n",
       "      <td>1</td>\n",
       "      <td>0</td>\n",
       "      <td>0</td>\n",
       "      <td>0</td>\n",
       "      <td>1</td>\n",
       "      <td>0</td>\n",
       "    </tr>\n",
       "    <tr>\n",
       "      <th>1</th>\n",
       "      <td>11.8</td>\n",
       "      <td>0.070482</td>\n",
       "      <td>45.5402</td>\n",
       "      <td>1516.0266</td>\n",
       "      <td>23</td>\n",
       "      <td>0</td>\n",
       "      <td>0</td>\n",
       "      <td>0</td>\n",
       "      <td>0</td>\n",
       "      <td>0</td>\n",
       "      <td>...</td>\n",
       "      <td>1</td>\n",
       "      <td>0</td>\n",
       "      <td>0</td>\n",
       "      <td>0</td>\n",
       "      <td>1</td>\n",
       "      <td>0</td>\n",
       "      <td>0</td>\n",
       "      <td>0</td>\n",
       "      <td>1</td>\n",
       "      <td>0</td>\n",
       "    </tr>\n",
       "    <tr>\n",
       "      <th>2</th>\n",
       "      <td>18.5</td>\n",
       "      <td>0.045464</td>\n",
       "      <td>144.1102</td>\n",
       "      <td>2187.1530</td>\n",
       "      <td>25</td>\n",
       "      <td>0</td>\n",
       "      <td>0</td>\n",
       "      <td>0</td>\n",
       "      <td>0</td>\n",
       "      <td>1</td>\n",
       "      <td>...</td>\n",
       "      <td>1</td>\n",
       "      <td>0</td>\n",
       "      <td>0</td>\n",
       "      <td>0</td>\n",
       "      <td>1</td>\n",
       "      <td>0</td>\n",
       "      <td>0</td>\n",
       "      <td>0</td>\n",
       "      <td>1</td>\n",
       "      <td>0</td>\n",
       "    </tr>\n",
       "    <tr>\n",
       "      <th>3</th>\n",
       "      <td>15.1</td>\n",
       "      <td>0.100014</td>\n",
       "      <td>145.4786</td>\n",
       "      <td>1589.2646</td>\n",
       "      <td>23</td>\n",
       "      <td>0</td>\n",
       "      <td>0</td>\n",
       "      <td>0</td>\n",
       "      <td>0</td>\n",
       "      <td>0</td>\n",
       "      <td>...</td>\n",
       "      <td>1</td>\n",
       "      <td>0</td>\n",
       "      <td>0</td>\n",
       "      <td>0</td>\n",
       "      <td>1</td>\n",
       "      <td>0</td>\n",
       "      <td>0</td>\n",
       "      <td>0</td>\n",
       "      <td>1</td>\n",
       "      <td>0</td>\n",
       "    </tr>\n",
       "    <tr>\n",
       "      <th>4</th>\n",
       "      <td>17.6</td>\n",
       "      <td>0.047257</td>\n",
       "      <td>119.6782</td>\n",
       "      <td>2145.2076</td>\n",
       "      <td>25</td>\n",
       "      <td>0</td>\n",
       "      <td>0</td>\n",
       "      <td>0</td>\n",
       "      <td>0</td>\n",
       "      <td>0</td>\n",
       "      <td>...</td>\n",
       "      <td>1</td>\n",
       "      <td>0</td>\n",
       "      <td>0</td>\n",
       "      <td>0</td>\n",
       "      <td>1</td>\n",
       "      <td>0</td>\n",
       "      <td>0</td>\n",
       "      <td>0</td>\n",
       "      <td>1</td>\n",
       "      <td>0</td>\n",
       "    </tr>\n",
       "  </tbody>\n",
       "</table>\n",
       "<p>5 rows × 47 columns</p>\n",
       "</div>"
      ],
      "text/plain": [
       "   Weight  Visibility       MRP      Sales  Years  Itemtype_0  Itemtype_1  \\\n",
       "0    19.2    0.094450  187.8214  4710.5350     15           0           0   \n",
       "1    11.8    0.070482   45.5402  1516.0266     23           0           0   \n",
       "2    18.5    0.045464  144.1102  2187.1530     25           0           0   \n",
       "3    15.1    0.100014  145.4786  1589.2646     23           0           0   \n",
       "4    17.6    0.047257  119.6782  2145.2076     25           0           0   \n",
       "\n",
       "   Itemtype_2  Itemtype_3  Itemtype_4  ...  OutletCity_0  OutletCity_1  \\\n",
       "0           0           0           0  ...             0             1   \n",
       "1           0           0           0  ...             1             0   \n",
       "2           0           0           1  ...             1             0   \n",
       "3           0           0           0  ...             1             0   \n",
       "4           0           0           0  ...             1             0   \n",
       "\n",
       "   OutletCity_2  OutletType_0  OutletType_1  OutletType_2  OutletType_3  \\\n",
       "0             0             0             1             0             0   \n",
       "1             0             0             1             0             0   \n",
       "2             0             0             1             0             0   \n",
       "3             0             0             1             0             0   \n",
       "4             0             0             1             0             0   \n",
       "\n",
       "   ItemCategory_0  ItemCategory_1  ItemCategory_2  \n",
       "0               0               1               0  \n",
       "1               0               1               0  \n",
       "2               0               1               0  \n",
       "3               0               1               0  \n",
       "4               0               1               0  \n",
       "\n",
       "[5 rows x 47 columns]"
      ]
     },
     "execution_count": 59,
     "metadata": {},
     "output_type": "execute_result"
    }
   ],
   "source": [
    "df.head()"
   ]
  },
  {
   "cell_type": "code",
   "execution_count": 60,
   "id": "a7cdba39",
   "metadata": {},
   "outputs": [],
   "source": [
    "corr = df.corr()"
   ]
  },
  {
   "cell_type": "code",
   "execution_count": 61,
   "id": "929d4f00",
   "metadata": {},
   "outputs": [
    {
     "data": {
      "text/plain": [
       "Sales             1.000000\n",
       "MRP               0.567574\n",
       "Outlet_5          0.311192\n",
       "OutletType_3      0.311192\n",
       "OutletType_1      0.108765\n",
       "OutletSize_1      0.075154\n",
       "OutletCity_1      0.058261\n",
       "Outlet_6          0.052823\n",
       "Years             0.049135\n",
       "OutletCity_2      0.046376\n",
       "Outlet_9          0.034264\n",
       "Outlet_2          0.032610\n",
       "ItemCategory_1    0.031905\n",
       "Itemtype_6        0.025950\n",
       "Outlet_1          0.024170\n",
       "OutletSize_0      0.024170\n",
       "Itemtype_13       0.022782\n",
       "Outlet_8          0.019803\n",
       "FatContent_2      0.018719\n",
       "Itemtype_9        0.015701\n",
       "Itemtype_15       0.015039\n",
       "Weight            0.009693\n",
       "Itemtype_4        0.008858\n",
       "Itemtype_3        0.007387\n",
       "Itemtype_12       0.007380\n",
       "Itemtype_1        0.002332\n",
       "Outlet_7          0.002274\n",
       "Itemtype_10      -0.002995\n",
       "Itemtype_7       -0.003956\n",
       "Itemtype_2       -0.004656\n",
       "FatContent_0     -0.009438\n",
       "Itemtype_5       -0.009482\n",
       "FatContent_1     -0.010861\n",
       "ItemCategory_2   -0.010861\n",
       "Itemtype_11      -0.021267\n",
       "Itemtype_14      -0.024040\n",
       "Itemtype_8       -0.025587\n",
       "ItemCategory_0   -0.034672\n",
       "Outlet_3         -0.038059\n",
       "OutletType_2     -0.038059\n",
       "Itemtype_0       -0.038381\n",
       "OutletSize_2     -0.098403\n",
       "OutletCity_0     -0.111287\n",
       "Visibility       -0.134035\n",
       "Outlet_4         -0.277250\n",
       "Outlet_0         -0.284883\n",
       "OutletType_0     -0.411727\n",
       "Name: Sales, dtype: float64"
      ]
     },
     "execution_count": 61,
     "metadata": {},
     "output_type": "execute_result"
    }
   ],
   "source": [
    "corr['Sales'].sort_values(ascending=False)"
   ]
  },
  {
   "cell_type": "markdown",
   "id": "0f64d4c4",
   "metadata": {},
   "source": [
    "## MODEL BUILDING"
   ]
  },
  {
   "cell_type": "code",
   "execution_count": 62,
   "id": "b1661589",
   "metadata": {},
   "outputs": [],
   "source": [
    "# As we are going for a Regression Mode, first let remove all Categorical Features\n",
    "\n",
    "df = df.select_dtypes(exclude='object')"
   ]
  },
  {
   "cell_type": "code",
   "execution_count": 63,
   "id": "29da7f0f",
   "metadata": {},
   "outputs": [],
   "source": [
    "# Taking out Dependent and Independent Variables/Features\n",
    "\n",
    "X = df.drop(\"Sales\", axis = 1)\n",
    "features = X.columns\n",
    "\n",
    "Y = df['Sales']"
   ]
  },
  {
   "cell_type": "code",
   "execution_count": 64,
   "id": "5880d7e8",
   "metadata": {},
   "outputs": [],
   "source": [
    "# Taking 20% data as validation set\n",
    "\n",
    "X_train, X_valid, Y_train, Y_valid = train_test_split(X, Y, test_size=0.2, random_state=22)"
   ]
  },
  {
   "cell_type": "code",
   "execution_count": 65,
   "id": "fb5e0eb2",
   "metadata": {},
   "outputs": [],
   "source": [
    "temp_min = df.Sales.max()"
   ]
  },
  {
   "cell_type": "markdown",
   "id": "75d7f62f",
   "metadata": {},
   "source": [
    "### 1. LINEAR REGRESSION MODEL:"
   ]
  },
  {
   "cell_type": "code",
   "execution_count": 66,
   "id": "1f9d71b6",
   "metadata": {},
   "outputs": [],
   "source": [
    "model = LinearRegression(normalize=True)\n",
    "\n",
    "model.fit(X_train, Y_train)\n",
    "\n",
    "#Prediction on Validation Dataset\n",
    "Y_pred = model.predict(X_valid)\n",
    "\n",
    "coef = pd.Series(model.coef_, features).sort_values()\n",
    "intercept = model.intercept_"
   ]
  },
  {
   "cell_type": "code",
   "execution_count": 67,
   "id": "df4ecc1f",
   "metadata": {},
   "outputs": [
    {
     "name": "stdout",
     "output_type": "stream",
     "text": [
      "Coefficents =  [-1025685442738716.0, -547478143455607.9, -368382369032658.9, -344059864032069.8, -57594772827130.07, -6493272480274.713, -6493272480182.961, -298.77343348429423, 0.23238857513412953, 15.537152078522334, 14688948246636.12, 17151073678168.29, 29006015073351.98, 71476173099114.58, 79480435352459.77, 79480435352496.12, 79480435352533.69, 90189366959774.81, 90189366959797.03, 96007001377268.19, 109525373814694.28, 130540581174886.94, 162528067764528.78, 187668926283846.47, 201316716064818.0, 201316716064823.6, 201316716064879.94, 201316716064907.8, 201316716064918.53, 201316716064953.1, 201316716064965.78, 201316716064989.84, 201316716065009.62, 201316716065014.78, 201316716065019.75, 201316716065048.88, 201316716065147.94, 272612713322830.97, 273424294674869.2, 284242584372984.3, 387155798609164.94, 418310991180823.9, 472783555268037.8, 712253351266416.4, 1190907163061583.0, 1242232772364036.8]\n",
      "Intercept =  -1480020848497591.5\n"
     ]
    }
   ],
   "source": [
    "print(\"Coefficents = \", coef.to_list())\n",
    "print(\"Intercept = \", intercept)"
   ]
  },
  {
   "cell_type": "code",
   "execution_count": 68,
   "id": "08776c5d",
   "metadata": {},
   "outputs": [
    {
     "name": "stdout",
     "output_type": "stream",
     "text": [
      "0.568623970121239\n",
      "0.5432435005260075\n"
     ]
    }
   ],
   "source": [
    "#Model Score\n",
    "\n",
    "print(model.score(X_train,Y_train))\n",
    "print(model.score(X_valid,Y_valid))"
   ]
  },
  {
   "cell_type": "code",
   "execution_count": 69,
   "id": "936828a3",
   "metadata": {},
   "outputs": [
    {
     "data": {
      "text/plain": [
       "<AxesSubplot:title={'center':'Model Coefficients'}>"
      ]
     },
     "execution_count": 69,
     "metadata": {},
     "output_type": "execute_result"
    },
    {
     "data": {
      "image/png": "[encoded data removed]",
      "text/plain": [
       "<Figure size 1080x720 with 1 Axes>"
      ]
     },
     "metadata": {
      "needs_background": "light"
     },
     "output_type": "display_data"
    }
   ],
   "source": [
    "coef.plot(kind='bar', title='Model Coefficients')"
   ]
  },
  {
   "cell_type": "code",
   "execution_count": 70,
   "id": "a0e948bb",
   "metadata": {},
   "outputs": [
    {
     "name": "stdout",
     "output_type": "stream",
     "text": [
      "MSE =  1411622.1696861254\n",
      "MAPE =  1.078384983012732\n",
      "MAE =  877.9665698533724\n",
      "R2 Sore =  0.5432435005260075\n",
      "RMSE =  1188.1170690155602\n",
      "Normalized RMSE =  0.0910178235032759\n"
     ]
    }
   ],
   "source": [
    "print(\"MSE = \", mean_squared_error(Y_valid, Y_pred))\n",
    "print(\"MAPE = \", mean_absolute_percentage_error(Y_valid, Y_pred))\n",
    "print(\"MAE = \", mean_absolute_error(Y_valid, Y_pred))\n",
    "print(\"R2 Sore = \", r2_score(Y_valid, Y_pred))\n",
    "print(\"RMSE = \", math.sqrt(mean_squared_error(Y_valid, Y_pred)))\n",
    "if temp_min > math.sqrt(mean_squared_error(Y_valid, Y_pred)):\n",
    "    temp_min = math.sqrt(mean_squared_error(Y_valid, Y_pred))\n",
    "    min_rmse_model = 'Linear Regression'\n",
    "print(\"Normalized RMSE = \", math.sqrt(mean_squared_error(Y_valid, Y_pred))/(df.Sales.max() - df.Sales.min()))"
   ]
  },
  {
   "cell_type": "markdown",
   "id": "38da0206",
   "metadata": {},
   "source": [
    "### 2. DECISION TREE MODEL "
   ]
  },
  {
   "cell_type": "code",
   "execution_count": 71,
   "id": "397d7eb7",
   "metadata": {},
   "outputs": [],
   "source": [
    "model = DecisionTreeRegressor()\n",
    "model.fit(X_train, Y_train)\n",
    "\n",
    "# predicting the validation set results\n",
    "Y_pred = model.predict(X_valid)"
   ]
  },
  {
   "cell_type": "code",
   "execution_count": 72,
   "id": "c193285e",
   "metadata": {},
   "outputs": [
    {
     "name": "stdout",
     "output_type": "stream",
     "text": [
      "MSE =  2539490.967456517\n",
      "MAPE =  0.748962403465206\n",
      "MAE =  1115.3044241642228\n",
      "R2 Sore =  0.17830066029696023\n",
      "RMSE =  1593.578039336799\n",
      "Normalized RMSE =  0.12207888305420318\n"
     ]
    }
   ],
   "source": [
    "print(\"MSE = \", mean_squared_error(Y_valid, Y_pred))\n",
    "print(\"MAPE = \", mean_absolute_percentage_error(Y_valid, Y_pred))\n",
    "print(\"MAE = \", mean_absolute_error(Y_valid, Y_pred))\n",
    "print(\"R2 Sore = \", r2_score(Y_valid, Y_pred))\n",
    "print(\"RMSE = \", math.sqrt(mean_squared_error(Y_valid, Y_pred)))\n",
    "if temp_min > math.sqrt(mean_squared_error(Y_valid, Y_pred)):\n",
    "    temp_min = math.sqrt(mean_squared_error(Y_valid, Y_pred))\n",
    "    min_rmse_model = 'Decision Tree Regressor'\n",
    "print(\"Normalized RMSE = \", math.sqrt(mean_squared_error(Y_valid, Y_pred))/(df.Sales.max() - df.Sales.min()))"
   ]
  },
  {
   "cell_type": "markdown",
   "id": "09fe9547",
   "metadata": {},
   "source": [
    "### 3. RANDOM FOREST REGRESSION "
   ]
  },
  {
   "cell_type": "code",
   "execution_count": 73,
   "id": "d4165f38",
   "metadata": {},
   "outputs": [],
   "source": [
    "from sklearn.ensemble import RandomForestRegressor\n",
    "\n",
    "model = RandomForestRegressor(n_estimators = 100 , n_jobs = -1)\n",
    "model.fit(X_train, Y_train)\n",
    "\n",
    "# predicting the validation set results\n",
    "Y_pred = model.predict(X_valid)"
   ]
  },
  {
   "cell_type": "code",
   "execution_count": 74,
   "id": "878a446d",
   "metadata": {},
   "outputs": [
    {
     "name": "stdout",
     "output_type": "stream",
     "text": [
      "MSE =  1424706.4469122952\n",
      "MAPE =  0.6036800307991028\n",
      "MAE =  834.9130242756598\n",
      "R2 Sore =  0.5390098402787321\n",
      "RMSE =  1193.6106764403103\n",
      "Normalized RMSE =  0.09143867108136557\n"
     ]
    }
   ],
   "source": [
    "print(\"MSE = \", mean_squared_error(Y_valid, Y_pred))\n",
    "print(\"MAPE = \", mean_absolute_percentage_error(Y_valid, Y_pred))\n",
    "print(\"MAE = \", mean_absolute_error(Y_valid, Y_pred))\n",
    "print(\"R2 Sore = \", r2_score(Y_valid, Y_pred))\n",
    "print(\"RMSE = \", math.sqrt(mean_squared_error(Y_valid, Y_pred)))\n",
    "if temp_min > math.sqrt(mean_squared_error(Y_valid, Y_pred)):\n",
    "    temp_min = math.sqrt(mean_squared_error(Y_valid, Y_pred))\n",
    "    min_rmse_model = 'Random Forest Regressor'\n",
    "print(\"Normalized RMSE = \", math.sqrt(mean_squared_error(Y_valid, Y_pred))/(df.Sales.max() - df.Sales.min()))"
   ]
  },
  {
   "cell_type": "markdown",
   "id": "d89f6753",
   "metadata": {},
   "source": [
    "### 4. SUPPORT VECTOR MACHINE (SVM)"
   ]
  },
  {
   "cell_type": "code",
   "execution_count": 75,
   "id": "9856fbce",
   "metadata": {},
   "outputs": [],
   "source": [
    "from sklearn.svm import SVR\n",
    "\n",
    "model = SVR()\n",
    "model.fit(X_train, Y_train)\n",
    "\n",
    "# predicting the validation set results\n",
    "Y_pred = model.predict(X_valid)"
   ]
  },
  {
   "cell_type": "code",
   "execution_count": 76,
   "id": "65795d3d",
   "metadata": {},
   "outputs": [
    {
     "name": "stdout",
     "output_type": "stream",
     "text": [
      "MSE =  2541776.4031586004\n",
      "MAPE =  1.5107494571400317\n",
      "MAE =  1166.9876703198079\n",
      "R2 Sore =  0.1775611652440533\n",
      "RMSE =  1594.2949548808715\n",
      "Normalized RMSE =  0.12213380364591829\n"
     ]
    }
   ],
   "source": [
    "print(\"MSE = \", mean_squared_error(Y_valid, Y_pred))\n",
    "print(\"MAPE = \", mean_absolute_percentage_error(Y_valid, Y_pred))\n",
    "print(\"MAE = \", mean_absolute_error(Y_valid, Y_pred))\n",
    "print(\"R2 Sore = \", r2_score(Y_valid, Y_pred))\n",
    "print(\"RMSE = \", math.sqrt(mean_squared_error(Y_valid, Y_pred)))\n",
    "if temp_min > math.sqrt(mean_squared_error(Y_valid, Y_pred)):\n",
    "    temp_min = math.sqrt(mean_squared_error(Y_valid, Y_pred))\n",
    "    min_rmse_model = 'SUPPORT VECTOR MACHINE '\n",
    "print(\"Normalized RMSE = \", math.sqrt(mean_squared_error(Y_valid, Y_pred))/(df.Sales.max() - df.Sales.min()))"
   ]
  },
  {
   "cell_type": "markdown",
   "id": "e909297d",
   "metadata": {},
   "source": [
    "### 5. AdaBoost Regressor"
   ]
  },
  {
   "cell_type": "code",
   "execution_count": 77,
   "id": "f27e4f87",
   "metadata": {},
   "outputs": [],
   "source": [
    "from sklearn.ensemble import AdaBoostRegressor\n",
    "\n",
    "model= AdaBoostRegressor(n_estimators = 100)\n",
    "model.fit(X_train, Y_train)\n",
    "\n",
    "# predicting the validation set results\n",
    "Y_pred = model.predict(X_valid)"
   ]
  },
  {
   "cell_type": "code",
   "execution_count": 78,
   "id": "55c086de",
   "metadata": {},
   "outputs": [
    {
     "name": "stdout",
     "output_type": "stream",
     "text": [
      "MSE =  1870626.3589407958\n",
      "MAPE =  1.6596141059144593\n",
      "MAE =  1100.3045466881026\n",
      "R2 Sore =  0.39472419328497865\n",
      "RMSE =  1367.7084334538542\n",
      "Normalized RMSE =  0.10477573973681759\n"
     ]
    }
   ],
   "source": [
    "print(\"MSE = \", mean_squared_error(Y_valid, Y_pred))\n",
    "print(\"MAPE = \", mean_absolute_percentage_error(Y_valid, Y_pred))\n",
    "print(\"MAE = \", mean_absolute_error(Y_valid, Y_pred))\n",
    "print(\"R2 Sore = \", r2_score(Y_valid, Y_pred))\n",
    "print(\"RMSE = \", math.sqrt(mean_squared_error(Y_valid, Y_pred)))\n",
    "if temp_min > math.sqrt(mean_squared_error(Y_valid, Y_pred)):\n",
    "    temp_min = math.sqrt(mean_squared_error(Y_valid, Y_pred))\n",
    "    min_rmse_model = 'Ada Boost Regressor'\n",
    "print(\"Normalized RMSE = \", math.sqrt(mean_squared_error(Y_valid, Y_pred))/(df.Sales.max() - df.Sales.min()))"
   ]
  },
  {
   "cell_type": "markdown",
   "id": "7377699d",
   "metadata": {},
   "source": [
    "### 6. XgBoost Regressor"
   ]
  },
  {
   "cell_type": "code",
   "execution_count": 79,
   "id": "468c8423",
   "metadata": {},
   "outputs": [],
   "source": [
    "from sklearn.ensemble import GradientBoostingRegressor\n",
    "\n",
    "model = GradientBoostingRegressor()\n",
    "model.fit(X_train, Y_train)\n",
    "\n",
    "# predicting the validation set results\n",
    "Y_pred = model.predict(X_valid)"
   ]
  },
  {
   "cell_type": "code",
   "execution_count": 80,
   "id": "1a65524f",
   "metadata": {},
   "outputs": [
    {
     "name": "stdout",
     "output_type": "stream",
     "text": [
      "MSE =  1317664.2814529398\n",
      "MAPE =  0.5988382471771144\n",
      "MAE =  804.2986501550074\n",
      "R2 Sore =  0.5736453155788984\n",
      "RMSE =  1147.895588219129\n",
      "Normalized RMSE =  0.08793658535289457\n"
     ]
    }
   ],
   "source": [
    "print(\"MSE = \", mean_squared_error(Y_valid, Y_pred))\n",
    "print(\"MAPE = \", mean_absolute_percentage_error(Y_valid, Y_pred))\n",
    "print(\"MAE = \", mean_absolute_error(Y_valid, Y_pred))\n",
    "print(\"R2 Sore = \", r2_score(Y_valid, Y_pred))\n",
    "print(\"RMSE = \", math.sqrt(mean_squared_error(Y_valid, Y_pred)))\n",
    "if temp_min > math.sqrt(mean_squared_error(Y_valid, Y_pred)):\n",
    "    temp_min = math.sqrt(mean_squared_error(Y_valid, Y_pred))\n",
    "    min_rmse_model = 'Gradient Boosting Regressor'\n",
    "print(\"Normalized RMSE = \", math.sqrt(mean_squared_error(Y_valid, Y_pred))/(df.Sales.max() - df.Sales.min()))"
   ]
  },
  {
   "cell_type": "markdown",
   "id": "d39d08e0",
   "metadata": {},
   "source": [
    "# BEST MODEL"
   ]
  },
  {
   "cell_type": "code",
   "execution_count": 81,
   "id": "ee6b6ad1",
   "metadata": {},
   "outputs": [
    {
     "data": {
      "text/plain": [
       "'Gradient Boosting Regressor'"
      ]
     },
     "execution_count": 81,
     "metadata": {},
     "output_type": "execute_result"
    }
   ],
   "source": [
    "min_rmse_model"
   ]
  }
 ],
 "metadata": {
  "kernelspec": {
   "display_name": "Python 3",
   "language": "python",
   "name": "python3"
  },
  "language_info": {
   "codemirror_mode": {
    "name": "ipython",
    "version": 3
   },
   "file_extension": ".py",
   "mimetype": "text/x-python",
   "name": "python",
   "nbconvert_exporter": "python",
   "pygments_lexer": "ipython3",
   "version": "3.8.8"
  }
 },
 "nbformat": 4,
 "nbformat_minor": 5
}
